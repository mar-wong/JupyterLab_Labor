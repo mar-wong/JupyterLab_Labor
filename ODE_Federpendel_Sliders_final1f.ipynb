{
 "cells": [
  {
   "cell_type": "markdown",
   "id": "b8aad2eb-8169-4c4f-8886-2305711ce5e0",
   "metadata": {
    "id": "b8aad2eb-8169-4c4f-8886-2305711ce5e0"
   },
   "source": [
    "<font color='red'>**Numerische Lösung der Differentialgleichung eines gedämpften Federpendels** </font>"
   ]
  },
  {
   "cell_type": "markdown",
   "id": "961d8865-e28d-48a4-bf00-7e315a28d5d2",
   "metadata": {
    "id": "961d8865-e28d-48a4-bf00-7e315a28d5d2"
   },
   "source": [
    "Die Bewegungsgleichung für ein gedämpftes Fadenpendel lautet\n",
    "$$\n",
    "m\\cdot \\ddot{x}( t) \\ +\\ b\\cdot \\dot{x}( t) \\ +D\\cdot x \\ =\\ 0\n",
    "$$\n",
    "* m ist die Masse des Pendelkörpers\n",
    "* b ist der Dämpfungskoeffizient. Er hängt von verschiedenen Faktoren ab, die die Abnahme der Schwingungsamplitude beeinflussen.\n",
    "* D ist die Federkonstante\n",
    "* x ist die Elongation des Pendels zum Zeitpunkt t\n",
    "\n",
    "Die allgemeine Lösung dieser Differentialgleichung hängt von den Parametern m, b und D ab und kann verschiedene Formen annehmen, wie z.B. exponentiell abklingende Sinus- oder Cosinusfunktionen, oder auch eine überkritische Dämpfung, bei der keine Schwingung mehr auftritt"
   ]
  },
  {
   "cell_type": "code",
   "execution_count": 17,
   "id": "3eb82690-3268-40e4-94fc-180f431c3218",
   "metadata": {
    "id": "3eb82690-3268-40e4-94fc-180f431c3218"
   },
   "outputs": [],
   "source": [
    "%%capture\n",
    "%pip install matplotlib pandas scikit-learn"
   ]
  },
  {
   "cell_type": "code",
   "execution_count": 18,
   "id": "4fe3a177-8014-45ff-9462-f81d682c73e7",
   "metadata": {
    "id": "4fe3a177-8014-45ff-9462-f81d682c73e7"
   },
   "outputs": [],
   "source": [
    "import pandas as pd\n",
    "import matplotlib.pyplot as plt\n",
    "import numpy as np\n",
    "from scipy.integrate import odeint\n",
    "from ipywidgets import interact, FloatSlider, IntSlider, FloatText"
   ]
  },
  {
   "cell_type": "markdown",
   "id": "e1ed04d9-a339-4872-92e3-4a4ae74b1337",
   "metadata": {
    "id": "e1ed04d9-a339-4872-92e3-4a4ae74b1337"
   },
   "source": [
    "<font color='blue'>**Um die Wirkung verschiedener Parameter, wie z.B. die Masse m und die Konstante D der Feder sowie des Mediums durch den Dämpfungskoeffizient b zu untersuchen, kann man die entsprechenden Sliders betätigen. Die grafisch dargestellte Elongation als Funktion der Zeit ist von diesen Parameter beeinflüsst.** </font>"
   ]
  },
  {
   "cell_type": "code",
   "execution_count": 19,
   "id": "60671c73-080f-440a-a499-253c8d4b7102",
   "metadata": {
    "colab": {
     "referenced_widgets": [
      "c7d8953da3cd48618ced5bc154bfc883"
     ]
    },
    "id": "60671c73-080f-440a-a499-253c8d4b7102",
    "outputId": "f0ddf7b6-7417-4425-8466-7eae892c1d68"
   },
   "outputs": [
    {
     "data": {
      "application/vnd.jupyter.widget-view+json": {
       "model_id": "29c97b460bde402f88c3ee093def2845",
       "version_major": 2,
       "version_minor": 0
      },
      "text/plain": [
       "interactive(children=(FloatSlider(value=0.4, description='m:', max=2.0, min=0.1, step=0.01), FloatSlider(value…"
      ]
     },
     "metadata": {},
     "output_type": "display_data"
    }
   ],
   "source": [
    "#numerische Lösung der ODE zum Fadenpendel mit Sliders\n",
    "def rightSideODE(x,t,k1,k2):\n",
    "    dxdt=[x[1],-k1*x[1]-k2*np.x[0]]\n",
    "    return dxdt\n",
    "#die Werte des Winkels theta sind in x[0] erfasst.\n",
    "def plot_func(m, b, D):\n",
    "    k1=b/(m)\n",
    "    k2=D/m\n",
    "    # set the initial conditions\n",
    "    x0=[0,1]\n",
    "    # define the discretization points\n",
    "    # Die Dauer der Bewegung wurde auf 100 Sekunden gestellt.\n",
    "    timePoints=np.linspace(0,10,300)\n",
    "    solutionOde=odeint(rightSideODE,x0,timePoints, args=(k1,k2))\n",
    "    plt.plot(timePoints, solutionOde[:, 0], 'b', label='Elongation x(t)')\n",
    "    #plt.plot(timePoints, solutionOde[:, 1], 'g', label='x2')\n",
    "    plt.legend(loc='best')\n",
    "    plt.xlabel('t time')\n",
    "    plt.ylabel('x(t)')\n",
    "    plt.grid()\n",
    "    #plt.savefig('simulation.png')\n",
    "    plt.show()\n",
    "\n",
    "m_slider = FloatSlider(value=0.4, min=0.1, max=2, step=0.01, description='m:')\n",
    "b_slider = FloatSlider(value=0.05, min=0.01, max=1.1, step=0.01, description='b:')\n",
    "D_slider = FloatSlider(value=0.8, min=0.2, max=3, step=0.01, description='D:')\n",
    "interact(plot_func, m=m_slider, b=b_slider, D=D_slider )\n",
    "pass"
   ]
  },
  {
   "cell_type": "code",
   "execution_count": null,
   "id": "60ffbeb1-4eab-4623-8cc3-c7ec96e8b16b",
   "metadata": {},
   "outputs": [],
   "source": []
  }
 ],
 "metadata": {
  "colab": {
   "include_colab_link": true,
   "provenance": [],
   "toc_visible": true
  },
  "kernelspec": {
   "display_name": "Python 3 (ipykernel)",
   "language": "python",
   "name": "python3"
  },
  "language_info": {
   "codemirror_mode": {
    "name": "ipython",
    "version": 3
   },
   "file_extension": ".py",
   "mimetype": "text/x-python",
   "name": "python",
   "nbconvert_exporter": "python",
   "pygments_lexer": "ipython3",
   "version": "3.10.16"
  }
 },
 "nbformat": 4,
 "nbformat_minor": 5
}
