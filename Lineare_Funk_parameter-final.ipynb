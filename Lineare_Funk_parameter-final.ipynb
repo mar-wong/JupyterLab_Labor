{
 "cells": [
  {
   "cell_type": "markdown",
   "id": "bb5afb99-8ccc-4b2d-9af2-6919553a74ee",
   "metadata": {},
   "source": [
    "<font color='red'>**Darstellung des Graphen einer linearen Funktion mit Parametern** </font>"
   ]
  },
  {
   "cell_type": "code",
   "execution_count": 19,
   "id": "a576bbb2-6dda-4761-87e8-140d6b102ad1",
   "metadata": {},
   "outputs": [],
   "source": [
    "%%capture \n",
    "%pip install matplotlib scikit-learn"
   ]
  },
  {
   "cell_type": "code",
   "execution_count": 20,
   "id": "f96e058b-38c7-4ace-8ca1-3d298ba9bbb0",
   "metadata": {},
   "outputs": [],
   "source": [
    "import matplotlib.pyplot as plt\n",
    "import numpy as np\n",
    "from ipywidgets import interact, FloatSlider, IntSlider, FloatText\n"
   ]
  },
  {
   "cell_type": "code",
   "execution_count": 21,
   "id": "9381199b-de9f-4754-8277-87bc78cc1ce0",
   "metadata": {},
   "outputs": [
    {
     "data": {
      "application/vnd.jupyter.widget-view+json": {
       "model_id": "1379772441a24d6a87d5628e0eb3b0e9",
       "version_major": 2,
       "version_minor": 0
      },
      "text/plain": [
       "interactive(children=(FloatSlider(value=0.4, description='a_Streckung_zur_y-Achse:', max=4.0, min=-4.0, step=0…"
      ]
     },
     "metadata": {},
     "output_type": "display_data"
    }
   ],
   "source": [
    "font = {'family': 'serif',\n",
    "        'color':  'darkred',\n",
    "        'weight': 'normal',\n",
    "        'size': 12,\n",
    "        }\n",
    "\n",
    "def func(x, a, b):\n",
    "    term = a*x+b\n",
    "    return term\n",
    "\n",
    "\n",
    "def plot_func(a, b, point_x):\n",
    "    f = lambda x: func(x, a, b)\n",
    "    x = np.linspace(-9, 9, 1000)\n",
    "    y = np.array(list(map(f, x)))\n",
    "    point_y = f(point_x)\n",
    "\n",
    "    fig, ax = plt.subplots()\n",
    "\n",
    "    # making the top and right spine invisible:\n",
    "    ax.spines['top'].set_color('none')\n",
    "    ax.spines['right'].set_color('none')\n",
    "\n",
    "    # moving bottom spine up to y=0 position:\n",
    "    ax.xaxis.set_ticks_position('bottom')\n",
    "    ax.spines['bottom'].set_position(('data',0))\n",
    "\n",
    "    # moving left spine to the right to position x == 0:\n",
    "    ax.yaxis.set_ticks_position('left')\n",
    "    ax.spines['left'].set_position(('data',0))\n",
    "\n",
    "    ax.plot(x, y, label=\"y=a*x+b\")\n",
    "    ax.plot(x, x, label=\"Referenz: y=x\")\n",
    "\n",
    "    # Add point to graph\n",
    "    plt.scatter([point_x], [point_y], color='red')\n",
    "    print(f\"(x|{point_y})\")\n",
    "    \n",
    "   \n",
    "    \n",
    "    plt.grid(True)\n",
    "    plt.title('Lineare Funktion mit Parametern', fontdict=font)\n",
    "    ax.plot(1, 0, \">k\", transform=ax.get_yaxis_transform(), clip_on=False)\n",
    "    ax.plot(0, 1, \"^k\", transform=ax.get_xaxis_transform(), clip_on=False)\n",
    "    plt.legend()\n",
    "    plt.show()\n",
    "\n",
    "\n",
    "a_slider = FloatSlider(value=0.4, min=-4.0, max=4.0, step=0.5, description='a_Streckung_zur_y-Achse:')\n",
    "b_slider = FloatSlider(value=0.4, min=-5.0, max=5.0, step=0.5, description='y-Achsenabschnitt:')\n",
    "\n",
    "x_value = FloatText(value=0.1, description='x:', disabled=False)\n",
    "\n",
    "interact(plot_func, a=a_slider, b=b_slider, point_x=x_value)\n",
    "pass"
   ]
  }
 ],
 "metadata": {
  "kernelspec": {
   "display_name": "Python 3 (ipykernel)",
   "language": "python",
   "name": "python3"
  },
  "language_info": {
   "codemirror_mode": {
    "name": "ipython",
    "version": 3
   },
   "file_extension": ".py",
   "mimetype": "text/x-python",
   "name": "python",
   "nbconvert_exporter": "python",
   "pygments_lexer": "ipython3",
   "version": "3.11.9"
  }
 },
 "nbformat": 4,
 "nbformat_minor": 5
}
