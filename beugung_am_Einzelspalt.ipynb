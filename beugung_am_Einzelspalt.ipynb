{
 "cells": [
  {
   "cell_type": "code",
   "execution_count": null,
   "metadata": {},
   "outputs": [],
   "source": [
    "%%capture \n",
    "%pip install matplotlib pandas scikit-learn "
   ]
  },
  {
   "cell_type": "code",
   "execution_count": 1,
   "metadata": {
    "collapsed": false,
    "jupyter": {
     "outputs_hidden": false
    },
    "tags": []
   },
   "outputs": [],
   "source": [
    "import pandas as pd\n",
    "import matplotlib.pyplot as plt\n",
    "import numpy as np\n",
    "from ipywidgets import interact, FloatSlider, IntSlider, FloatText"
   ]
  },
  {
   "cell_type": "markdown",
   "metadata": {
    "collapsed": false,
    "jupyter": {
     "outputs_hidden": false
    }
   },
   "source": [
    "# Import & clean up dataframe"
   ]
  },
  {
   "cell_type": "code",
   "execution_count": 2,
   "metadata": {
    "collapsed": false,
    "jupyter": {
     "outputs_hidden": false
    },
    "tags": []
   },
   "outputs": [
    {
     "data": {
      "text/html": [
       "<div>\n",
       "<style scoped>\n",
       "    .dataframe tbody tr th:only-of-type {\n",
       "        vertical-align: middle;\n",
       "    }\n",
       "\n",
       "    .dataframe tbody tr th {\n",
       "        vertical-align: top;\n",
       "    }\n",
       "\n",
       "    .dataframe thead th {\n",
       "        text-align: right;\n",
       "    }\n",
       "</style>\n",
       "<table border=\"1\" class=\"dataframe\">\n",
       "  <thead>\n",
       "    <tr style=\"text-align: right;\">\n",
       "      <th></th>\n",
       "      <th>x</th>\n",
       "      <th>y</th>\n",
       "    </tr>\n",
       "  </thead>\n",
       "  <tbody>\n",
       "    <tr>\n",
       "      <th>0</th>\n",
       "      <td>0.00</td>\n",
       "      <td>0.003015</td>\n",
       "    </tr>\n",
       "    <tr>\n",
       "      <th>1</th>\n",
       "      <td>0.05</td>\n",
       "      <td>0.002082</td>\n",
       "    </tr>\n",
       "    <tr>\n",
       "      <th>2</th>\n",
       "      <td>0.10</td>\n",
       "      <td>0.002641</td>\n",
       "    </tr>\n",
       "    <tr>\n",
       "      <th>3</th>\n",
       "      <td>0.15</td>\n",
       "      <td>0.002455</td>\n",
       "    </tr>\n",
       "    <tr>\n",
       "      <th>4</th>\n",
       "      <td>0.20</td>\n",
       "      <td>0.002641</td>\n",
       "    </tr>\n",
       "    <tr>\n",
       "      <th>...</th>\n",
       "      <td>...</td>\n",
       "      <td>...</td>\n",
       "    </tr>\n",
       "    <tr>\n",
       "      <th>192</th>\n",
       "      <td>9.60</td>\n",
       "      <td>0.002082</td>\n",
       "    </tr>\n",
       "    <tr>\n",
       "      <th>193</th>\n",
       "      <td>9.65</td>\n",
       "      <td>0.002455</td>\n",
       "    </tr>\n",
       "    <tr>\n",
       "      <th>194</th>\n",
       "      <td>9.70</td>\n",
       "      <td>0.001895</td>\n",
       "    </tr>\n",
       "    <tr>\n",
       "      <th>195</th>\n",
       "      <td>9.75</td>\n",
       "      <td>0.002268</td>\n",
       "    </tr>\n",
       "    <tr>\n",
       "      <th>196</th>\n",
       "      <td>9.80</td>\n",
       "      <td>0.002082</td>\n",
       "    </tr>\n",
       "  </tbody>\n",
       "</table>\n",
       "<p>197 rows × 2 columns</p>\n",
       "</div>"
      ],
      "text/plain": [
       "        x         y\n",
       "0    0.00  0.003015\n",
       "1    0.05  0.002082\n",
       "2    0.10  0.002641\n",
       "3    0.15  0.002455\n",
       "4    0.20  0.002641\n",
       "..    ...       ...\n",
       "192  9.60  0.002082\n",
       "193  9.65  0.002455\n",
       "194  9.70  0.001895\n",
       "195  9.75  0.002268\n",
       "196  9.80  0.002082\n",
       "\n",
       "[197 rows x 2 columns]"
      ]
     },
     "execution_count": 2,
     "metadata": {},
     "output_type": "execute_result"
    }
   ],
   "source": [
    "df = pd.read_csv(\"testfile_200222-1124_Beugung_0.2.csv\", skiprows=2)\n",
    "df = df.drop(\"# I:(a.U.)\", axis=1)\n",
    "df = df.rename(columns={\"Unnamed: 1\": \"t\", \"Unnamed: 2\": \"U\"})\n",
    "df"
   ]
  },
  {
   "cell_type": "markdown",
   "metadata": {
    "collapsed": false,
    "jupyter": {
     "outputs_hidden": false
    }
   },
   "source": [
    "# Plot"
   ]
  },
  {
   "cell_type": "code",
   "execution_count": 3,
   "metadata": {
    "collapsed": false,
    "jupyter": {
     "outputs_hidden": false
    },
    "tags": []
   },
   "outputs": [
    {
     "data": {
      "image/png": "[encoded data removed]",
      "text/plain": [
       "<Figure size 640x480 with 1 Axes>"
      ]
     },
     "metadata": {},
     "output_type": "display_data"
    }
   ],
   "source": [
    "plt.plot(df[\"x\"], df[\"y\"])\n",
    "plt.grid(True)\n",
    "plt.xlabel(\"t [s]\")\n",
    "plt.ylabel(\"U [V]\")\n",
    "plt.show()"
   ]
  },
  {
   "cell_type": "markdown",
   "metadata": {
    "collapsed": false,
    "jupyter": {
     "outputs_hidden": false
    }
   },
   "source": [
    "# Simulation"
   ]
  },
  {
   "cell_type": "markdown",
   "metadata": {
    "collapsed": false,
    "jupyter": {
     "outputs_hidden": false
    }
   },
   "source": [
    "# mit sliders"
   ]
  },
  {
   "cell_type": "code",
   "execution_count": null,
   "metadata": {
    "collapsed": false,
    "jupyter": {
     "outputs_hidden": false
    }
   },
   "outputs": [],
   "source": [
    "font = {'family': 'serif',\n",
    "        'color':  'darkred',\n",
    "        'weight': 'normal',\n",
    "        'size': 12,\n",
    "        }\n",
    "def func(x, a, λ):\n",
    "    numerator1 = np.sin((a / λ) * np.pi * np.sin(x))\n",
    "    denominator1 = np.pi * (a / λ) * np.sin(x)\n",
    "    term = (numerator1 / denominator1)**2\n",
    "    return term\n",
    "\n",
    "\n",
    "def plot_func(a, λ, point_x):\n",
    "    f = lambda x: func(x, a, λ)\n",
    "    x = np.linspace(-1, 1, 1000)\n",
    "    y = np.array(list(map(f, x)))\n",
    "    point_y = f(point_x)\n",
    "\n",
    "    plt.plot(x, y)\n",
    "\n",
    "    # Add point to graph\n",
    "    plt.scatter([point_x], [point_y], color='red')\n",
    "    print(f\"(x|{point_y})\")\n",
    "\n",
    "    plt.grid(True)\n",
    "    plt.title('Diffraction at Single Slit', fontdict=font)\n",
    "    #plt.text(0.55, 0.95, r'$\\cos(2 \\pi t) \\exp(-t)$', fontdict=font)\n",
    "    plt.xlabel('alpha(rad)', fontdict=font)\n",
    "    plt.ylabel('I(mV)', fontdict=font)\n",
    "    plt.show()\n",
    "\n",
    "\n",
    "a_slider = FloatSlider(value=0.4, min=0.4, max=3, step=0.01, description='a_in_microm:')\n",
    "λ_slider = FloatSlider(value=0.4, min=0.4, max=0.8, step=0.1, description='λ_in_micro:')\n",
    "x_value = FloatText(value=0.1, description='x:', disabled=False)\n",
    "\n",
    "interact(plot_func, a=a_slider, λ=λ_slider, point_x=x_value)\n",
    "pass"
   ]
  }
 ],
 "metadata": {
  "kernelspec": {
   "display_name": "Python 3 (ipykernel)",
   "language": "python",
   "name": "python3"
  },
  "language_info": {
   "codemirror_mode": {
    "name": "ipython",
    "version": 3
   },
   "file_extension": ".py",
   "mimetype": "text/x-python",
   "name": "python",
   "nbconvert_exporter": "python",
   "pygments_lexer": "ipython3",
   "version": "3.11.7"
  }
 },
 "nbformat": 4,
 "nbformat_minor": 4
}
