{
 "cells": [
  {
   "cell_type": "markdown",
   "metadata": {},
   "source": [
    "<font color='red'>**Investigation of Diffraction at Single-Slit Based on the the Combination of DMSRP, Spreadsheets and Dynamic Simulations** </font>"
   ]
  },
  {
   "cell_type": "markdown",
   "metadata": {},
   "source": [
    "**By illuminating the slit with laser light, the Digital Measurement System based on Raspberry Pi DMSRP shows a bright central maximum followed by dimmer and thinner maxima on either side, which can be easily visualised and measured in the measuring window of the DMSRP.**"
   ]
  },
  {
   "cell_type": "markdown",
   "metadata": {},
   "source": [
    "<font color='red'>Goals:</font>\n",
    "* The measurements DMSRP stored in .csv file are analysed with spreadsheets to determine the ratio of the intensity of different maxima to \n",
    "the central maximum.\n",
    "* Deducing the equations for diffraction orders as well as the relative intensities of light fringes based on comprehensible mathematical model to model the DMSRP visualised pattern.\n",
    "* Employing a model based on the phasor analysis to relate the phasor diagram with the intensity distribution of the single-slit pattern. \n",
    "* Exploring the effect of various slit widths at different wavelengths on  the intensity distribution of the diffraction pattern."
   ]
  },
  {
   "cell_type": "code",
   "execution_count": 1,
   "metadata": {},
   "outputs": [],
   "source": [
    "%%capture \n",
    "%pip install matplotlib pandas scikit-learn "
   ]
  },
  {
   "cell_type": "code",
   "execution_count": 2,
   "metadata": {
    "collapsed": false,
    "jupyter": {
     "outputs_hidden": false
    },
    "tags": []
   },
   "outputs": [],
   "source": [
    "import pandas as pd\n",
    "import matplotlib.pyplot as plt\n",
    "import numpy as np\n",
    "from ipywidgets import interact, FloatSlider, IntSlider, FloatText"
   ]
  },
  {
   "cell_type": "markdown",
   "metadata": {
    "collapsed": false,
    "jupyter": {
     "outputs_hidden": false
    }
   },
   "source": [
    "# Import the DMSRP measurements  stored in.csv file. These are analysed with spreadsheets to determine the ratio of the intensity of different maxima to the central maximum."
   ]
  },
  {
   "cell_type": "code",
   "execution_count": 3,
   "metadata": {
    "collapsed": false,
    "jupyter": {
     "outputs_hidden": false
    },
    "tags": []
   },
   "outputs": [
    {
     "data": {
      "text/html": [
       "<div>\n",
       "<style scoped>\n",
       "    .dataframe tbody tr th:only-of-type {\n",
       "        vertical-align: middle;\n",
       "    }\n",
       "\n",
       "    .dataframe tbody tr th {\n",
       "        vertical-align: top;\n",
       "    }\n",
       "\n",
       "    .dataframe thead th {\n",
       "        text-align: right;\n",
       "    }\n",
       "</style>\n",
       "<table border=\"1\" class=\"dataframe\">\n",
       "  <thead>\n",
       "    <tr style=\"text-align: right;\">\n",
       "      <th></th>\n",
       "      <th>t</th>\n",
       "      <th>U</th>\n",
       "    </tr>\n",
       "  </thead>\n",
       "  <tbody>\n",
       "    <tr>\n",
       "      <th>0</th>\n",
       "      <td>0.00</td>\n",
       "      <td>0.003015</td>\n",
       "    </tr>\n",
       "    <tr>\n",
       "      <th>1</th>\n",
       "      <td>0.05</td>\n",
       "      <td>0.002082</td>\n",
       "    </tr>\n",
       "    <tr>\n",
       "      <th>2</th>\n",
       "      <td>0.10</td>\n",
       "      <td>0.002641</td>\n",
       "    </tr>\n",
       "    <tr>\n",
       "      <th>3</th>\n",
       "      <td>0.15</td>\n",
       "      <td>0.002455</td>\n",
       "    </tr>\n",
       "    <tr>\n",
       "      <th>4</th>\n",
       "      <td>0.20</td>\n",
       "      <td>0.002641</td>\n",
       "    </tr>\n",
       "    <tr>\n",
       "      <th>...</th>\n",
       "      <td>...</td>\n",
       "      <td>...</td>\n",
       "    </tr>\n",
       "    <tr>\n",
       "      <th>192</th>\n",
       "      <td>9.60</td>\n",
       "      <td>0.002082</td>\n",
       "    </tr>\n",
       "    <tr>\n",
       "      <th>193</th>\n",
       "      <td>9.65</td>\n",
       "      <td>0.002455</td>\n",
       "    </tr>\n",
       "    <tr>\n",
       "      <th>194</th>\n",
       "      <td>9.70</td>\n",
       "      <td>0.001895</td>\n",
       "    </tr>\n",
       "    <tr>\n",
       "      <th>195</th>\n",
       "      <td>9.75</td>\n",
       "      <td>0.002268</td>\n",
       "    </tr>\n",
       "    <tr>\n",
       "      <th>196</th>\n",
       "      <td>9.80</td>\n",
       "      <td>0.002082</td>\n",
       "    </tr>\n",
       "  </tbody>\n",
       "</table>\n",
       "<p>197 rows × 2 columns</p>\n",
       "</div>"
      ],
      "text/plain": [
       "        t         U\n",
       "0    0.00  0.003015\n",
       "1    0.05  0.002082\n",
       "2    0.10  0.002641\n",
       "3    0.15  0.002455\n",
       "4    0.20  0.002641\n",
       "..    ...       ...\n",
       "192  9.60  0.002082\n",
       "193  9.65  0.002455\n",
       "194  9.70  0.001895\n",
       "195  9.75  0.002268\n",
       "196  9.80  0.002082\n",
       "\n",
       "[197 rows x 2 columns]"
      ]
     },
     "execution_count": 3,
     "metadata": {},
     "output_type": "execute_result"
    }
   ],
   "source": [
    "df = pd.read_csv(\"testfile_200222-1124_Beugung_0.2.csv\", skiprows=2)\n",
    "df = df.drop(\"# I:(a.U.)\", axis=1)\n",
    "df = df.rename(columns={\"Unnamed: 1\": \"t\", \"Unnamed: 2\": \"U\"})\n",
    "df"
   ]
  },
  {
   "cell_type": "markdown",
   "metadata": {
    "collapsed": false,
    "jupyter": {
     "outputs_hidden": false
    }
   },
   "source": [
    "# Plot  the intensity of light at different points on the screen. The BPW34 photodiode of the DMSRP with high radiant sensitivity transforms the light intensity in Voltage U. "
   ]
  },
  {
   "cell_type": "code",
   "execution_count": 4,
   "metadata": {
    "collapsed": false,
    "jupyter": {
     "outputs_hidden": false
    },
    "tags": []
   },
   "outputs": [
    {
     "data": {
      "image/png": "[encoded data removed]",
      "text/plain": [
       "<Figure size 640x480 with 1 Axes>"
      ]
     },
     "metadata": {},
     "output_type": "display_data"
    }
   ],
   "source": [
    "plt.plot(df[\"t\"], df[\"U\"])\n",
    "plt.grid(True)\n",
    "plt.xlabel(\"t [s]\")\n",
    "plt.ylabel(\"U [V]\")\n",
    "plt.show()"
   ]
  },
  {
   "cell_type": "markdown",
   "metadata": {},
   "source": [
    "<font color='blue'>**Comprehensible mathematical phasor model based on the DMSRP visualised pattern.** </font>\n",
    "\n",
    "The electric field of each wavelet is a phasor whose orientation is given by its phase state. \n",
    "Since the electric field vectors have the same amplitude and angular frequencies, and each successive component has the same phase shift relative the previous one, the phasors can be arranged in an arc of a circle. \n",
    "The total time-independent component of electric field at certain point on the screen is given by the magnitude of the phasor resulting from adding all the individual wavelets’ contributions. "
   ]
  },
  {
   "cell_type": "markdown",
   "metadata": {},
   "source": [
    "<font color='red'>**Dynamic representation of the phasors for different diffraction angles** </font>"
   ]
  },
  {
   "cell_type": "code",
   "execution_count": 5,
   "metadata": {},
   "outputs": [
    {
     "data": {
      "text/html": [
       "\n",
       "        <iframe\n",
       "            width=\"800\"\n",
       "            height=\"600\"\n",
       "            src=\"https://www.geogebra.org/classic/Jd2VfGCH?style=border%3A+1px+solid+black\"\n",
       "            frameborder=\"0\"\n",
       "            allowfullscreen\n",
       "            \n",
       "        ></iframe>\n",
       "        "
      ],
      "text/plain": [
       "<IPython.lib.display.IFrame at 0x75f6a6542260>"
      ]
     },
     "execution_count": 5,
     "metadata": {},
     "output_type": "execute_result"
    }
   ],
   "source": [
    "from IPython.display import IFrame\n",
    "IFrame('https://www.geogebra.org/classic/Jd2VfGCH', width=800, height=600, style=\"border: 1px solid black\")"
   ]
  },
  {
   "cell_type": "markdown",
   "metadata": {},
   "source": [
    "**The simulation shows that the amplitude of the resultant phasor reaches its maximum if the phasors are laid end to end in a straight line, whereas the minimum of intensity is reached when the phasors add to zero, after rotating through 2π one or more times.** "
   ]
  },
  {
   "cell_type": "markdown",
   "metadata": {
    "collapsed": false,
    "jupyter": {
     "outputs_hidden": false
    }
   },
   "source": [
    "# The intensity of the maxima is proportional to the energy transported by electromagnetic waves. The intensity of light at an arbitrary point on the screen is put in relation to the time average of the square of the total electric field.$$I=I_{0} \\cdot \\frac{sin^{2}\\left( \\pi \\cdot \\frac{a\\cdot sin( \\alpha )}{\\lambda }\\right)}{\\left( \\pi \\cdot \\frac{a\\cdot sin( \\alpha )}{\\lambda }\\right)^{2}}$$"
   ]
  },
  {
   "cell_type": "markdown",
   "metadata": {},
   "source": [
    "# With the following Python Code one can explore the effect of various slit widths at different wavelengths on the intensity of diffraction pattern. In the function above, one can vary the width a of the slit, the wavelength λ and the diffraction angle. One can visualise the intensity of the diffraction pattern at a given position x on the screen. "
   ]
  },
  {
   "cell_type": "code",
   "execution_count": 6,
   "metadata": {
    "collapsed": false,
    "jupyter": {
     "outputs_hidden": false
    }
   },
   "outputs": [
    {
     "data": {
      "application/vnd.jupyter.widget-view+json": {
       "model_id": "6bfb38752cd945f48382211350184201",
       "version_major": 2,
       "version_minor": 0
      },
      "text/plain": [
       "interactive(children=(FloatSlider(value=0.4, description='a_in_microm:', max=3.0, min=0.4, step=0.01), FloatSl…"
      ]
     },
     "metadata": {},
     "output_type": "display_data"
    }
   ],
   "source": [
    "font = {'family': 'serif',\n",
    "        'color':  'darkred',\n",
    "        'weight': 'normal',\n",
    "        'size': 12,\n",
    "        }\n",
    "def func(x, a, λ):\n",
    "    numerator1 = np.sin((a / λ) * np.pi * np.sin(x))\n",
    "    denominator1 = np.pi * (a / λ) * np.sin(x)\n",
    "    term = (numerator1 / denominator1)**2\n",
    "    return term\n",
    "\n",
    "\n",
    "def plot_func(a, λ, point_x):\n",
    "    f = lambda x: func(x, a, λ)\n",
    "    x = np.linspace(-1, 1, 1000)\n",
    "    y = np.array(list(map(f, x)))\n",
    "    point_y = f(point_x)\n",
    "\n",
    "    plt.plot(x, y)\n",
    "\n",
    "    # Add point to graph\n",
    "    plt.scatter([point_x], [point_y], color='red')\n",
    "    print(f\"(x|{point_y})\")\n",
    "\n",
    "    plt.grid(True)\n",
    "    plt.title('Diffraction at Single Slit', fontdict=font)\n",
    "    #plt.text(0.55, 0.95, r'$\\cos(2 \\pi t) \\exp(-t)$', fontdict=font)\n",
    "    plt.xlabel('alpha(rad)', fontdict=font)\n",
    "    plt.ylabel('I(mV)', fontdict=font)\n",
    "    plt.show()\n",
    "\n",
    "\n",
    "a_slider = FloatSlider(value=0.4, min=0.4, max=3, step=0.01, description='a_in_microm:')\n",
    "λ_slider = FloatSlider(value=0.4, min=0.4, max=0.8, step=0.1, description='λ_in_micro:')\n",
    "x_value = FloatText(value=0.1, description='x:', disabled=False)\n",
    "\n",
    "interact(plot_func, a=a_slider, λ=λ_slider, point_x=x_value)\n",
    "pass"
   ]
  }
 ],
 "metadata": {
  "kernelspec": {
   "display_name": "Python 3 (ipykernel)",
   "language": "python",
   "name": "python3"
  },
  "language_info": {
   "codemirror_mode": {
    "name": "ipython",
    "version": 3
   },
   "file_extension": ".py",
   "mimetype": "text/x-python",
   "name": "python",
   "nbconvert_exporter": "python",
   "pygments_lexer": "ipython3",
   "version": "3.10.16"
  }
 },
 "nbformat": 4,
 "nbformat_minor": 4
}
