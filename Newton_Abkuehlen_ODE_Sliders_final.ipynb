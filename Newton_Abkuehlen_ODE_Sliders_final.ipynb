{
 "cells": [
  {
   "cell_type": "markdown",
   "metadata": {
    "id": "EST7hc8zunPZ"
   },
   "source": [
    "<font color='red'>**Numerische Lösung der DLG 1.Ordnung zum Newtonschen Abkühlungsgesetz** </font>"
   ]
  },
  {
   "cell_type": "code",
   "execution_count": 61,
   "metadata": {
    "id": "90GqPGY1o35r"
   },
   "outputs": [],
   "source": [
    "%%capture\n",
    "%pip install matplotlib pandas scikit-learn scipy"
   ]
  },
  {
   "cell_type": "markdown",
   "metadata": {
    "id": "YVyRz7hpvdJb"
   },
   "source": [
    "Newtons Abkühlungsgesetz kann folgendermaßen zusammengefasst werden:\n",
    "\n",
    "Die Geschwindigkeit der Temperaturänderung eines Objekts ist proportional zum Unterschied zwischen seiner Temperatur und der Umgebungstemperatur $T_{U} $. $$ \\frac{dT}{T\\ -T_{U} \\ } \\ =\\ -\\ k\\cdot dt $$"
   ]
  },
  {
   "cell_type": "markdown",
   "metadata": {
    "id": "NxEGitQ7wiGh"
   },
   "source": [
    "* $\\frac{dT}{dt\\ }$ die Änderungsrate der Temperatur über die Zeit.\n",
    "*  k ist  eine positive Proportionalitätskonstante, auch Abkühlungskonstante oder Wärmeübergangskoeffizient genannt.Die Proportionalitätskonstante hängt von der Oberfläche, der Masse und der spezifischen Wärmekapazität des Körpers sowie vom Konvektionskoeffizient ab.\n",
    "* $ T_0 $ ist die Anfangstemperatur des Körpers"
   ]
  },
  {
   "cell_type": "markdown",
   "metadata": {
    "id": "m81KWJiz0DKa"
   },
   "source": [
    "Die exakte Lösung dieser Differentialgleichung ist\n",
    "$$T( t) \\ =\\ T_{U} \\ +\\ ( T_{0} \\ -T_{U}) \\cdot e^{-k\\cdot t} $$"
   ]
  },
  {
   "cell_type": "code",
   "execution_count": 62,
   "metadata": {
    "id": "zesoqzH-hV6Y"
   },
   "outputs": [],
   "source": [
    "import numpy as np\n",
    "import matplotlib.pyplot as plt\n",
    "from scipy.integrate import solve_ivp\n",
    "from ipywidgets import interact, FloatSlider, IntSlider, FloatText"
   ]
  },
  {
   "cell_type": "markdown",
   "metadata": {
    "id": "lrDAtfpxJy8y"
   },
   "source": [
    "## Numerische Lösung der Differentialgleichung mit Hilfe der Libraries vom SciPy\n",
    "[scipy.integrate.solve_ivp](https://docs.scipy.org/doc/scipy/reference/generated/scipy.integrate.solve_ivp.html#scipy-integrate-solve-ivp)."
   ]
  },
  {
   "cell_type": "markdown",
   "metadata": {
    "id": "MFGEyAu3024K"
   },
   "source": [
    "Die Wirkung der Anfangstemperatur $T_0 $, der Temperatur der der Umgebung $T_U$ sowie der Abkühlungskonstante k auf den zetlichen Verlauf der Temperatur T eines Körpers lässt sich mit Hilfe der Sliders untersuchen."
   ]
  },
  {
   "cell_type": "code",
   "execution_count": 63,
   "metadata": {
    "colab": {
     "base_uri": "https://localhost:8080/",
     "height": 473
    },
    "id": "ZQLF441fKfMy",
    "outputId": "cb0ffb65-7aa6-4bb5-8b12-3d46ea61cef0"
   },
   "outputs": [
    {
     "data": {
      "application/vnd.jupyter.widget-view+json": {
       "model_id": "19706401a1f441aaaba0012e41901071",
       "version_major": 2,
       "version_minor": 0
      },
      "text/plain": [
       "interactive(children=(FloatSlider(value=0.05, description='k:', max=0.1, min=0.01, step=0.01), FloatSlider(val…"
      ]
     },
     "metadata": {},
     "output_type": "display_data"
    }
   ],
   "source": [
    "#Numerische Lösung der ODE 1.Ordnung zum Abkühlungsgesetz von Newton\n",
    "\n",
    "\n",
    "def solve_ivp_plot(k, T_U, T_0):\n",
    "    # Define the right-hand side function for the ODE\n",
    "    function = lambda t, y: -k*(y - T_U)\n",
    "\n",
    "\n",
    "    # Initial condition\n",
    "    y0 = [T_0]\n",
    "\n",
    "    # Time span\n",
    "    t_span = [0, 60]\n",
    "    #Zeitintervalle dx zur Anäherung der numerischen Lösung zur exakten Lösung. Je kleiner dx, desto besser die Anäherung\n",
    "    dx = 10.\n",
    "    # Solve the ODE using solve_ivp\n",
    "    sol = solve_ivp(function, t_span, y0, t_eval=np.arange(0, 60, dx))\n",
    "    # Compute values of e^x for the same range of t values\n",
    "    t_values = np.linspace(0, 60, len(sol.t))\n",
    "    e_values = T_U + (T_0 - T_U)*np.exp(-k*t_values)\n",
    "\n",
    "\n",
    "    # Plotting the solve_ivp approximation and e^x on the same graph\n",
    "    plt.plot(sol.t, sol.y[0], label='solve_ivp Approximation')\n",
    "    plt.plot(t_values, e_values, label='exakte Lösung')\n",
    "    plt.xlabel('t')\n",
    "    plt.ylabel('y')\n",
    "    plt.title(f'Approximation of ODE solution using solve_ivp vs ($\\Delta t = {dx}$)')\n",
    "    plt.legend()\n",
    "    plt.grid(True)\n",
    "    plt.show()\n",
    "    \n",
    "    \n",
    "T_0_slider = FloatSlider(value=80, min=20, max=100, step=1., description='T_0:')\n",
    "k_slider = FloatSlider(value=0.05, min=0.01, max=0.1, step=0.01, description='k:')\n",
    "T_U_slider = FloatSlider(value=22, min=5, max=25, step=1., description='T_U:')\n",
    "interact(solve_ivp_plot, T_0=T_0_slider, k=k_slider, T_U=T_U_slider )\n",
    "pass\n",
    "\n"
   ]
  }
 ],
 "metadata": {
  "colab": {
   "include_colab_link": true,
   "provenance": [],
   "toc_visible": true
  },
  "kernelspec": {
   "display_name": "Python 3 (ipykernel)",
   "language": "python",
   "name": "python3"
  },
  "language_info": {
   "codemirror_mode": {
    "name": "ipython",
    "version": 3
   },
   "file_extension": ".py",
   "mimetype": "text/x-python",
   "name": "python",
   "nbconvert_exporter": "python",
   "pygments_lexer": "ipython3",
   "version": "3.10.16"
  }
 },
 "nbformat": 4,
 "nbformat_minor": 4
}
